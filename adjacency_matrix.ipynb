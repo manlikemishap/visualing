{
 "metadata": {
  "name": "",
  "signature": "sha256:db769350d3058d6ee7d1d68301362b1a7d9debf81575c9842561a6d102d10c42"
 },
 "nbformat": 3,
 "nbformat_minor": 0,
 "worksheets": [
  {
   "cells": [
    {
     "cell_type": "code",
     "collapsed": false,
     "input": [
      "import requests\n",
      "import mediacloud\n",
      "import json\n",
      "import cPickle\n",
      "\n",
      "MY_API_KEY = '4dc0a467b7643ec9be9f8e6c7ece91ab12d8773084578da1140a8bd5daa5cdd2'\n",
      "\n",
      "mc = mediacloud.api.MediaCloud(MY_API_KEY)\n",
      "\n",
      "#sentenceList = mc.sentenceList('( hobby AND lobby )', '+publish_date:[2014-07-01T00:00:00Z TO 2014-07-26T00:00:00Z]',0,10000,sort='random')\n",
      "#cPickle.dump(sentenceList, open('hobbyANDlobby_sentenceList.p', 'wb'))\n",
      "sentenceList = cPickle.load(open('hobbyANDlobby_sentenceList.p', 'rb'))\n",
      "\n",
      "#wordCount = mc.wordCount('( hobby AND lobby )', '+publish_date:[2014-07-01T00:00:00Z TO 2014-07-26T00:00:00Z]')\n",
      "#cPickle.dump(wordCount, open('hobbyANDlobby_wordCount.p', 'wb'))\n",
      "wordCount = cPickle.load(open('hobbyANDlobby_wordCount.p', 'rb'))\n",
      "\n",
      "storyList = mc.storyList('( hobby AND lobby )', '+publish_date:[2014-07-01T00:00:00Z TO 2014-07-26T00:00:00Z]',0,500)\n",
      "cPickle.dump(storyList, open('hobbyANDlobby_storyList.p', 'wb'))\n",
      "#storyList = cPickle.load(open('hobbyANDlobby_storyList.p', 'rb'))"
     ],
     "language": "python",
     "metadata": {},
     "outputs": [],
     "prompt_number": 21
    },
    {
     "cell_type": "code",
     "collapsed": false,
     "input": [
      "print len(storyList)"
     ],
     "language": "python",
     "metadata": {},
     "outputs": [
      {
       "output_type": "stream",
       "stream": "stdout",
       "text": [
        "20\n"
       ]
      }
     ],
     "prompt_number": 20
    },
    {
     "cell_type": "code",
     "collapsed": false,
     "input": [
      "#words that appear more commonly according to rank in that media as opposed to other media\n",
      "wordSet = [{'term':'ginsburg','stem':'ginsburg'},{'term':'feminist/feminism','stem':'feminis'},{'term':'contraception','stem':'contraception'},{'term':'abortion','stem':'abort'},{'term':'abortion','stem':'abort'}]"
     ],
     "language": "python",
     "metadata": {},
     "outputs": [],
     "prompt_number": 25
    },
    {
     "cell_type": "code",
     "collapsed": false,
     "input": [
      "data = {\n",
      "\t\"nodes\":[{\"name\":word['term'],\"group\":1} for word in wordSet],#wordCount[:100]]#+[{\"name\":word['term'],\"group\":2} for word in wordSet}],\n",
      "\t\"links\":[]\n",
      "}"
     ],
     "language": "python",
     "metadata": {},
     "outputs": [],
     "prompt_number": 26
    },
    {
     "cell_type": "code",
     "collapsed": false,
     "input": [
      "links = {}\n",
      "for sto in storyList:    \n",
      "{    cur_words = [w['term'] for w in filter(lambda x: sto[u'story_text'].lower().count(x['stem']) > 0, wordSet)]\n",
      "}    for a in cur_words:\n",
      "        for b in cur_words:\n",
      "            if a+','+b in links:\n",
      "                links[a+','+b]+=1\n",
      "            else:\n",
      "                links[a+','+b]=1\n",
      "\n",
      "just_terms = [w['term'] for w in wordSet]\n",
      "                \n",
      "ranks = {word['term']:rank for rank, word in enumerate(wordSet)}\n",
      "\n",
      "for a in just_terms:\n",
      "    for b in just_terms:\n",
      "        if a+','+b in links:\n",
      "            data[\"links\"].append({\"source\":ranks[a],\"target\":ranks[b],\"value\":(links[a+','+b]+links[b+','+a])/(links[a+','+a]/2+links[b+','+b]/2)})        "
     ],
     "language": "python",
     "metadata": {},
     "outputs": [],
     "prompt_number": 40
    },
    {
     "cell_type": "code",
     "collapsed": false,
     "input": [],
     "language": "python",
     "metadata": {},
     "outputs": [],
     "prompt_number": 13
    },
    {
     "cell_type": "code",
     "collapsed": false,
     "input": [],
     "language": "python",
     "metadata": {},
     "outputs": [],
     "prompt_number": 14
    },
    {
     "cell_type": "code",
     "collapsed": false,
     "input": [
      "import json\n",
      "with open('hobby_lobby.json', 'wb') as fp:\n",
      "    json.dump(data, fp)"
     ],
     "language": "python",
     "metadata": {},
     "outputs": [],
     "prompt_number": 41
    }
   ],
   "metadata": {}
  }
 ]
}