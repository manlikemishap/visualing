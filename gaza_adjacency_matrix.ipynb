{
 "metadata": {
  "name": "",
  "signature": "sha256:9ae1d06d5a74507011cae240c9b1a2482f57a7c6f2788cdac782ba44fcea0a81"
 },
 "nbformat": 3,
 "nbformat_minor": 0,
 "worksheets": [
  {
   "cells": [
    {
     "cell_type": "markdown",
     "metadata": {},
     "source": [
      "# Data Prep for Gaza Top Media Source Word Adjacency Matrix\n",
      "<hr>"
     ]
    },
    {
     "cell_type": "code",
     "collapsed": false,
     "input": [
      "import requests\n",
      "import mediacloud\n",
      "import json\n",
      "import os\n",
      "import cPickle\n",
      "\n",
      "# Berkman Projects Directory\n",
      "berkman_projects = os.environ['BKP']\n",
      "api_key = cPickle.load( file( os.path.expanduser( berkman_projects + '/MediaCloud/mediacloud_api_key.pickle' ), 'r' ) )\n",
      "mc = mediacloud.api.MediaCloud(api_key)"
     ],
     "language": "python",
     "metadata": {},
     "outputs": [],
     "prompt_number": 7
    },
    {
     "cell_type": "code",
     "collapsed": false,
     "input": [
      "# Top Gaza Media Sources by In-Link (Twitter (#2) removed)\n",
      "# Represents all Media Sources w/ greater than 200 In-Links\n",
      "\n",
      "# Media_id Name\n",
      "# 1        New York Times\n",
      "# 1751     Guardian\n",
      "# 23209    jpost.com\n",
      "# 38702    maannews-en\n",
      "# 4442     Reuters News\n",
      "# 1094     BBC\n",
      "# 20129    haaretz.com\n",
      "# 34082    timesofisrael.com\n",
      "# 2        Washington Post\n",
      "# 39008    reliefWeb\n",
      "\n",
      "top_10_media = [1, 1751, 23209, 38702, 4442, 1094, 20129, 34082, 2, 39008]\n",
      "top_stories = {}\n",
      "top_words = {}\n",
      "for m in top_10_media:\n",
      "    top_words[m] = mc.wordCount('{~ controversy:720 } and media_id:%s' % (m), '')\n",
      "    top_stories[m] = mc.storyList('{~ controversy:720 } and media_id:%s' % (m), '', 0, 500)"
     ],
     "language": "python",
     "metadata": {},
     "outputs": [],
     "prompt_number": 12
    },
    {
     "cell_type": "code",
     "collapsed": false,
     "input": [
      "# 1.) Build unique word list across media sources based on stem (aggregate counts)\n",
      "# 2.) Strip out most common words to avoid obvious correlations\n",
      "# 3.) Merge with D3 data format\n",
      "top_word_list = {}\n",
      "for m in top_10_media:\n",
      "    for w in top_words[m]:\n",
      "        if w['stem'] in top_word_list:\n",
      "            top_word_list[w['stem']]"
     ],
     "language": "python",
     "metadata": {},
     "outputs": [],
     "prompt_number": 15
    },
    {
     "cell_type": "code",
     "collapsed": false,
     "input": [
      "# Data template for D3 node/link format\n",
      "data = {\n",
      "    \"nodes\":[{\"name\":word['term'],\"group\":1} for word in wordSet],\n",
      "    \"links\":[]\n",
      "}"
     ],
     "language": "python",
     "metadata": {},
     "outputs": [],
     "prompt_number": 17
    },
    {
     "cell_type": "code",
     "collapsed": false,
     "input": [
      "# Build unique word count list from story texts and populate D3 data format w/ terms and ranks\n",
      "links = {}\n",
      "for s in storyList:    \n",
      "    cur_words = [w['term'] for w in filter(lambda x: s[u'story_text'].lower().count(x['stem']) > 0, wordSet)]\n",
      "    for a in cur_words:\n",
      "        for b in cur_words:\n",
      "            if a+','+b in links:\n",
      "                links[a+','+b]+=1\n",
      "            else:\n",
      "                links[a+','+b]=1\n",
      "\n",
      "just_terms = [w['term'] for w in wordSet]\n",
      "                \n",
      "ranks = {word['term']:rank for rank, word in enumerate(wordSet)}\n",
      "\n",
      "for a in just_terms:\n",
      "    for b in just_terms:\n",
      "        if a+','+b in links:\n",
      "            data[\"links\"].append({\"source\":ranks[a],\"target\":ranks[b],\"value\":(links[a+','+b]+links[b+','+a])/(links[a+','+a]/2+links[b+','+b]/2)})        "
     ],
     "language": "python",
     "metadata": {},
     "outputs": [],
     "prompt_number": 40
    },
    {
     "cell_type": "code",
     "collapsed": false,
     "input": [
      "# Dump to disk\n",
      "with open('gaza_matrix.json', 'wb') as fp:\n",
      "    json.dump(data, fp)"
     ],
     "language": "python",
     "metadata": {},
     "outputs": [],
     "prompt_number": 41
    }
   ],
   "metadata": {}
  }
 ]
}